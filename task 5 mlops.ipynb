{
 "cells": [
  {
   "cell_type": "code",
   "execution_count": 1,
   "metadata": {},
   "outputs": [],
   "source": [
    "import pandas as pd"
   ]
  },
  {
   "cell_type": "code",
   "execution_count": 2,
   "metadata": {},
   "outputs": [
    {
     "data": {
      "text/html": [
       "<div>\n",
       "<style scoped>\n",
       "    .dataframe tbody tr th:only-of-type {\n",
       "        vertical-align: middle;\n",
       "    }\n",
       "\n",
       "    .dataframe tbody tr th {\n",
       "        vertical-align: top;\n",
       "    }\n",
       "\n",
       "    .dataframe thead th {\n",
       "        text-align: right;\n",
       "    }\n",
       "</style>\n",
       "<table border=\"1\" class=\"dataframe\">\n",
       "  <thead>\n",
       "    <tr style=\"text-align: right;\">\n",
       "      <th></th>\n",
       "      <th>IP</th>\n",
       "      <th>date</th>\n",
       "      <th>output</th>\n",
       "    </tr>\n",
       "  </thead>\n",
       "  <tbody>\n",
       "    <tr>\n",
       "      <th>0</th>\n",
       "      <td>192.168.43.37</td>\n",
       "      <td>29/Jun/2020:15:59:09 +0530</td>\n",
       "      <td>GET /hack.html HTTP/1.1</td>\n",
       "    </tr>\n",
       "    <tr>\n",
       "      <th>1</th>\n",
       "      <td>192.168.43.37</td>\n",
       "      <td>29/Jun/2020:15:59:18 +0530</td>\n",
       "      <td>GET /favicon.ico HTTP/1.1</td>\n",
       "    </tr>\n",
       "    <tr>\n",
       "      <th>2</th>\n",
       "      <td>192.168.43.98</td>\n",
       "      <td>29/Jun/2020:16:02:52 +0530</td>\n",
       "      <td>403 3985</td>\n",
       "    </tr>\n",
       "    <tr>\n",
       "      <th>3</th>\n",
       "      <td>192.168.43.98</td>\n",
       "      <td>29/Jun/2020:16:02:52 +0530</td>\n",
       "      <td>403 3985</td>\n",
       "    </tr>\n",
       "    <tr>\n",
       "      <th>4</th>\n",
       "      <td>192.168.43.98</td>\n",
       "      <td>29/Jun/2020:16:02:52 +0530</td>\n",
       "      <td>403 3985</td>\n",
       "    </tr>\n",
       "    <tr>\n",
       "      <th>...</th>\n",
       "      <td>...</td>\n",
       "      <td>...</td>\n",
       "      <td>...</td>\n",
       "    </tr>\n",
       "    <tr>\n",
       "      <th>29444</th>\n",
       "      <td>46.105.14.53</td>\n",
       "      <td>17/May/2015:10:05:03 +0000</td>\n",
       "      <td>200 14872</td>\n",
       "    </tr>\n",
       "    <tr>\n",
       "      <th>29445</th>\n",
       "      <td>110.136.166.128</td>\n",
       "      <td>17/May/2015:10:05:06 +0000</td>\n",
       "      <td>GET /reset.css HTTP/1.1</td>\n",
       "    </tr>\n",
       "    <tr>\n",
       "      <th>29446</th>\n",
       "      <td>110.136.166.128</td>\n",
       "      <td>17/May/2015:10:05:03 +0000</td>\n",
       "      <td>GET /style2.css HTTP/1.1</td>\n",
       "    </tr>\n",
       "    <tr>\n",
       "      <th>29447</th>\n",
       "      <td>110.136.166.128</td>\n",
       "      <td>17/May/2015:10:05:41 +0000</td>\n",
       "      <td>GET /favicon.ico HTTP/1.1</td>\n",
       "    </tr>\n",
       "    <tr>\n",
       "      <th>29448</th>\n",
       "      <td>110.136.166.128</td>\n",
       "      <td>17/May/2015:10:05:32 +0000</td>\n",
       "      <td>200 6146</td>\n",
       "    </tr>\n",
       "  </tbody>\n",
       "</table>\n",
       "<p>29449 rows × 3 columns</p>\n",
       "</div>"
      ],
      "text/plain": [
       "                    IP                        date                     output\n",
       "0        192.168.43.37  29/Jun/2020:15:59:09 +0530    GET /hack.html HTTP/1.1\n",
       "1        192.168.43.37  29/Jun/2020:15:59:18 +0530  GET /favicon.ico HTTP/1.1\n",
       "2        192.168.43.98  29/Jun/2020:16:02:52 +0530                  403 3985 \n",
       "3        192.168.43.98  29/Jun/2020:16:02:52 +0530                  403 3985 \n",
       "4        192.168.43.98  29/Jun/2020:16:02:52 +0530                  403 3985 \n",
       "...                ...                         ...                        ...\n",
       "29444     46.105.14.53  17/May/2015:10:05:03 +0000                 200 14872 \n",
       "29445  110.136.166.128  17/May/2015:10:05:06 +0000    GET /reset.css HTTP/1.1\n",
       "29446  110.136.166.128  17/May/2015:10:05:03 +0000   GET /style2.css HTTP/1.1\n",
       "29447  110.136.166.128  17/May/2015:10:05:41 +0000  GET /favicon.ico HTTP/1.1\n",
       "29448  110.136.166.128  17/May/2015:10:05:32 +0000                  200 6146 \n",
       "\n",
       "[29449 rows x 3 columns]"
      ]
     },
     "execution_count": 2,
     "metadata": {},
     "output_type": "execute_result"
    }
   ],
   "source": [
    "dataset = pd.read_csv('mylogs.csv')\n",
    "dataset"
   ]
  },
  {
   "cell_type": "code",
   "execution_count": 3,
   "metadata": {},
   "outputs": [
    {
     "data": {
      "text/plain": [
       "Index(['IP', 'date', 'output'], dtype='object')"
      ]
     },
     "execution_count": 3,
     "metadata": {},
     "output_type": "execute_result"
    }
   ],
   "source": [
    "dataset.columns"
   ]
  },
  {
   "cell_type": "code",
   "execution_count": 4,
   "metadata": {},
   "outputs": [],
   "source": [
    "from sklearn.preprocessing import OneHotEncoder, LabelEncoder"
   ]
  },
  {
   "cell_type": "code",
   "execution_count": 5,
   "metadata": {},
   "outputs": [],
   "source": [
    "X = dataset.iloc[:,:]\n",
    "x=X.to_numpy()"
   ]
  },
  {
   "cell_type": "code",
   "execution_count": 6,
   "metadata": {},
   "outputs": [
    {
     "data": {
      "text/plain": [
       "array([['192.168.43.37', '29/Jun/2020:15:59:09 +0530',\n",
       "        'GET /hack.html HTTP/1.1'],\n",
       "       ['192.168.43.37', '29/Jun/2020:15:59:18 +0530',\n",
       "        'GET /favicon.ico HTTP/1.1'],\n",
       "       ['192.168.43.98', '29/Jun/2020:16:02:52 +0530', ' 403 3985 '],\n",
       "       ...,\n",
       "       ['110.136.166.128', '17/May/2015:10:05:03 +0000',\n",
       "        'GET /style2.css HTTP/1.1'],\n",
       "       ['110.136.166.128', '17/May/2015:10:05:41 +0000',\n",
       "        'GET /favicon.ico HTTP/1.1'],\n",
       "       ['110.136.166.128', '17/May/2015:10:05:32 +0000', ' 200 6146 ']],\n",
       "      dtype=object)"
      ]
     },
     "execution_count": 6,
     "metadata": {},
     "output_type": "execute_result"
    }
   ],
   "source": [
    "x"
   ]
  },
  {
   "cell_type": "code",
   "execution_count": 7,
   "metadata": {},
   "outputs": [],
   "source": [
    "label = LabelEncoder()"
   ]
  },
  {
   "cell_type": "code",
   "execution_count": 8,
   "metadata": {},
   "outputs": [],
   "source": [
    "IPAdd = label.fit_transform(x[:,0])\n",
    "Date = label.fit_transform(x[:,1])\n",
    "Out = label.fit_transform(x[:,2])"
   ]
  },
  {
   "cell_type": "code",
   "execution_count": 9,
   "metadata": {},
   "outputs": [],
   "source": [
    "ip = pd.DataFrame(IPAdd, columns=[\"IPAddress\"])\n",
    "date = pd.DataFrame(Date, columns=[\"DATE\"])\n",
    "User = pd.DataFrame(Out, columns=[\"Client\"]) "
   ]
  },
  {
   "cell_type": "code",
   "execution_count": 10,
   "metadata": {},
   "outputs": [],
   "source": [
    "DATASET = [ip , date , User]\n",
    "FINAL_DATASET = pd.concat(DATASET , axis=1)"
   ]
  },
  {
   "cell_type": "code",
   "execution_count": 11,
   "metadata": {},
   "outputs": [
    {
     "data": {
      "text/html": [
       "<div>\n",
       "<style scoped>\n",
       "    .dataframe tbody tr th:only-of-type {\n",
       "        vertical-align: middle;\n",
       "    }\n",
       "\n",
       "    .dataframe tbody tr th {\n",
       "        vertical-align: top;\n",
       "    }\n",
       "\n",
       "    .dataframe thead th {\n",
       "        text-align: right;\n",
       "    }\n",
       "</style>\n",
       "<table border=\"1\" class=\"dataframe\">\n",
       "  <thead>\n",
       "    <tr style=\"text-align: right;\">\n",
       "      <th></th>\n",
       "      <th>IPAddress</th>\n",
       "      <th>DATE</th>\n",
       "      <th>Client</th>\n",
       "    </tr>\n",
       "  </thead>\n",
       "  <tbody>\n",
       "    <tr>\n",
       "      <th>0</th>\n",
       "      <td>1</td>\n",
       "      <td>32</td>\n",
       "      <td>29</td>\n",
       "    </tr>\n",
       "    <tr>\n",
       "      <th>1</th>\n",
       "      <td>1</td>\n",
       "      <td>33</td>\n",
       "      <td>28</td>\n",
       "    </tr>\n",
       "    <tr>\n",
       "      <th>2</th>\n",
       "      <td>2</td>\n",
       "      <td>34</td>\n",
       "      <td>25</td>\n",
       "    </tr>\n",
       "    <tr>\n",
       "      <th>3</th>\n",
       "      <td>2</td>\n",
       "      <td>34</td>\n",
       "      <td>25</td>\n",
       "    </tr>\n",
       "    <tr>\n",
       "      <th>4</th>\n",
       "      <td>2</td>\n",
       "      <td>34</td>\n",
       "      <td>25</td>\n",
       "    </tr>\n",
       "    <tr>\n",
       "      <th>...</th>\n",
       "      <td>...</td>\n",
       "      <td>...</td>\n",
       "      <td>...</td>\n",
       "    </tr>\n",
       "    <tr>\n",
       "      <th>29444</th>\n",
       "      <td>4</td>\n",
       "      <td>1</td>\n",
       "      <td>2</td>\n",
       "    </tr>\n",
       "    <tr>\n",
       "      <th>29445</th>\n",
       "      <td>0</td>\n",
       "      <td>3</td>\n",
       "      <td>32</td>\n",
       "    </tr>\n",
       "    <tr>\n",
       "      <th>29446</th>\n",
       "      <td>0</td>\n",
       "      <td>1</td>\n",
       "      <td>33</td>\n",
       "    </tr>\n",
       "    <tr>\n",
       "      <th>29447</th>\n",
       "      <td>0</td>\n",
       "      <td>21</td>\n",
       "      <td>28</td>\n",
       "    </tr>\n",
       "    <tr>\n",
       "      <th>29448</th>\n",
       "      <td>0</td>\n",
       "      <td>15</td>\n",
       "      <td>20</td>\n",
       "    </tr>\n",
       "  </tbody>\n",
       "</table>\n",
       "<p>29449 rows × 3 columns</p>\n",
       "</div>"
      ],
      "text/plain": [
       "       IPAddress  DATE  Client\n",
       "0              1    32      29\n",
       "1              1    33      28\n",
       "2              2    34      25\n",
       "3              2    34      25\n",
       "4              2    34      25\n",
       "...          ...   ...     ...\n",
       "29444          4     1       2\n",
       "29445          0     3      32\n",
       "29446          0     1      33\n",
       "29447          0    21      28\n",
       "29448          0    15      20\n",
       "\n",
       "[29449 rows x 3 columns]"
      ]
     },
     "execution_count": 11,
     "metadata": {},
     "output_type": "execute_result"
    }
   ],
   "source": [
    "FINAL_DATASET\n"
   ]
  },
  {
   "cell_type": "code",
   "execution_count": 12,
   "metadata": {},
   "outputs": [],
   "source": [
    "from sklearn.preprocessing import StandardScaler\n",
    "sc = StandardScaler()\n",
    "SCALED_DATASET = sc.fit_transform(FINAL_DATASET)"
   ]
  },
  {
   "cell_type": "code",
   "execution_count": 13,
   "metadata": {},
   "outputs": [
    {
     "data": {
      "text/plain": [
       "array([[ -4.98909929,  -1.35022141,   8.5819613 ],\n",
       "       [ -4.98909929,  -1.33400742,   6.44173995],\n",
       "       [ -0.03081146,  -1.31779343,   0.0210759 ],\n",
       "       ...,\n",
       "       [ -9.94738713,  -1.8528551 ,  17.1428467 ],\n",
       "       [ -9.94738713,  -1.5285753 ,   6.44173995],\n",
       "       [ -9.94738713,  -1.62585924, -10.68003085]])"
      ]
     },
     "execution_count": 13,
     "metadata": {},
     "output_type": "execute_result"
    }
   ],
   "source": [
    "SCALED_DATASET"
   ]
  },
  {
   "cell_type": "code",
   "execution_count": 14,
   "metadata": {},
   "outputs": [],
   "source": [
    "import seaborn as sns"
   ]
  },
  {
   "cell_type": "code",
   "execution_count": 15,
   "metadata": {},
   "outputs": [],
   "source": [
    "sns.set()"
   ]
  },
  {
   "cell_type": "code",
   "execution_count": 16,
   "metadata": {},
   "outputs": [
    {
     "data": {
      "text/plain": [
       "<matplotlib.axes._subplots.AxesSubplot at 0x169effd7d88>"
      ]
     },
     "execution_count": 16,
     "metadata": {},
     "output_type": "execute_result"
    },
    {
     "data": {
      "image/png": "[encoded data removed]",
      "text/plain": [
       "<Figure size 432x288 with 1 Axes>"
      ]
     },
     "metadata": {},
     "output_type": "display_data"
    }
   ],
   "source": [
    "data=FINAL_DATASET['IPAddress']\n",
    "sns.distplot(data, kde=False)"
   ]
  },
  {
   "cell_type": "code",
   "execution_count": 17,
   "metadata": {},
   "outputs": [
    {
     "data": {
      "text/plain": [
       "<matplotlib.axes._subplots.AxesSubplot at 0x169f0148e48>"
      ]
     },
     "execution_count": 17,
     "metadata": {},
     "output_type": "execute_result"
    },
    {
     "data": {
      "image/png": "[encoded data removed]",
      "text/plain": [
       "<Figure size 432x288 with 1 Axes>"
      ]
     },
     "metadata": {},
     "output_type": "display_data"
    }
   ],
   "source": [
    "sns.countplot(data=FINAL_DATASET , x=\"IPAddress\")"
   ]
  },
  {
   "cell_type": "code",
   "execution_count": 18,
   "metadata": {},
   "outputs": [
    {
     "data": {
      "text/plain": [
       "KMeans(algorithm='auto', copy_x=True, init='k-means++', max_iter=300,\n",
       "       n_clusters=15, n_init=10, n_jobs=None, precompute_distances='auto',\n",
       "       random_state=None, tol=0.0001, verbose=0)"
      ]
     },
     "execution_count": 18,
     "metadata": {},
     "output_type": "execute_result"
    }
   ],
   "source": [
    "from sklearn.cluster import KMeans\n",
    "model = KMeans(n_clusters=15)\n",
    "model.fit(SCALED_DATASET)"
   ]
  },
  {
   "cell_type": "code",
   "execution_count": 19,
   "metadata": {},
   "outputs": [],
   "source": [
    "pred = model.fit_predict(SCALED_DATASET)"
   ]
  },
  {
   "cell_type": "code",
   "execution_count": 20,
   "metadata": {},
   "outputs": [],
   "source": [
    "SCALED_DATASET = pd.DataFrame(SCALED_DATASET , columns=['IP', 'DATE','client'])"
   ]
  },
  {
   "cell_type": "code",
   "execution_count": 21,
   "metadata": {},
   "outputs": [],
   "source": [
    "SCALED_DATASET['cluster'] = pred"
   ]
  },
  {
   "cell_type": "code",
   "execution_count": 22,
   "metadata": {},
   "outputs": [],
   "source": [
    "ips = [dataset['IP'], FINAL_DATASET['IPAddress']]"
   ]
  },
  {
   "cell_type": "code",
   "execution_count": 23,
   "metadata": {},
   "outputs": [],
   "source": [
    "fin_ip = pd.concat(ips , axis=1)"
   ]
  },
  {
   "cell_type": "code",
   "execution_count": 24,
   "metadata": {},
   "outputs": [
    {
     "data": {
      "text/html": [
       "<div>\n",
       "<style scoped>\n",
       "    .dataframe tbody tr th:only-of-type {\n",
       "        vertical-align: middle;\n",
       "    }\n",
       "\n",
       "    .dataframe tbody tr th {\n",
       "        vertical-align: top;\n",
       "    }\n",
       "\n",
       "    .dataframe thead th {\n",
       "        text-align: right;\n",
       "    }\n",
       "</style>\n",
       "<table border=\"1\" class=\"dataframe\">\n",
       "  <thead>\n",
       "    <tr style=\"text-align: right;\">\n",
       "      <th></th>\n",
       "      <th>IP</th>\n",
       "      <th>IPAddress</th>\n",
       "    </tr>\n",
       "  </thead>\n",
       "  <tbody>\n",
       "    <tr>\n",
       "      <th>0</th>\n",
       "      <td>192.168.43.37</td>\n",
       "      <td>1</td>\n",
       "    </tr>\n",
       "    <tr>\n",
       "      <th>1</th>\n",
       "      <td>192.168.43.37</td>\n",
       "      <td>1</td>\n",
       "    </tr>\n",
       "    <tr>\n",
       "      <th>2</th>\n",
       "      <td>192.168.43.98</td>\n",
       "      <td>2</td>\n",
       "    </tr>\n",
       "    <tr>\n",
       "      <th>3</th>\n",
       "      <td>192.168.43.98</td>\n",
       "      <td>2</td>\n",
       "    </tr>\n",
       "    <tr>\n",
       "      <th>4</th>\n",
       "      <td>192.168.43.98</td>\n",
       "      <td>2</td>\n",
       "    </tr>\n",
       "    <tr>\n",
       "      <th>...</th>\n",
       "      <td>...</td>\n",
       "      <td>...</td>\n",
       "    </tr>\n",
       "    <tr>\n",
       "      <th>29444</th>\n",
       "      <td>46.105.14.53</td>\n",
       "      <td>4</td>\n",
       "    </tr>\n",
       "    <tr>\n",
       "      <th>29445</th>\n",
       "      <td>110.136.166.128</td>\n",
       "      <td>0</td>\n",
       "    </tr>\n",
       "    <tr>\n",
       "      <th>29446</th>\n",
       "      <td>110.136.166.128</td>\n",
       "      <td>0</td>\n",
       "    </tr>\n",
       "    <tr>\n",
       "      <th>29447</th>\n",
       "      <td>110.136.166.128</td>\n",
       "      <td>0</td>\n",
       "    </tr>\n",
       "    <tr>\n",
       "      <th>29448</th>\n",
       "      <td>110.136.166.128</td>\n",
       "      <td>0</td>\n",
       "    </tr>\n",
       "  </tbody>\n",
       "</table>\n",
       "<p>29449 rows × 2 columns</p>\n",
       "</div>"
      ],
      "text/plain": [
       "                    IP  IPAddress\n",
       "0        192.168.43.37          1\n",
       "1        192.168.43.37          1\n",
       "2        192.168.43.98          2\n",
       "3        192.168.43.98          2\n",
       "4        192.168.43.98          2\n",
       "...                ...        ...\n",
       "29444     46.105.14.53          4\n",
       "29445  110.136.166.128          0\n",
       "29446  110.136.166.128          0\n",
       "29447  110.136.166.128          0\n",
       "29448  110.136.166.128          0\n",
       "\n",
       "[29449 rows x 2 columns]"
      ]
     },
     "execution_count": 24,
     "metadata": {},
     "output_type": "execute_result"
    }
   ],
   "source": [
    "fin_ip"
   ]
  },
  {
   "cell_type": "code",
   "execution_count": 28,
   "metadata": {},
   "outputs": [
    {
     "data": {
      "text/plain": [
       "<matplotlib.collections.PathCollection at 0x169f0998048>"
      ]
     },
     "execution_count": 28,
     "metadata": {},
     "output_type": "execute_result"
    },
    {
     "data": {
      "image/png": "[encoded data removed]",
      "text/plain": [
       "<Figure size 432x288 with 1 Axes>"
      ]
     },
     "metadata": {},
     "output_type": "display_data"
    }
   ],
   "source": [
    "import matplotlib.pyplot as plt\n",
    "plt.scatter(SCALED_DATASET['IP'], SCALED_DATASET['client'], c=SCALED_DATASET['cluster'])"
   ]
  },
  {
   "cell_type": "code",
   "execution_count": 52,
   "metadata": {},
   "outputs": [
    {
     "data": {
      "text/html": [
       "<div>\n",
       "<style scoped>\n",
       "    .dataframe tbody tr th:only-of-type {\n",
       "        vertical-align: middle;\n",
       "    }\n",
       "\n",
       "    .dataframe tbody tr th {\n",
       "        vertical-align: top;\n",
       "    }\n",
       "\n",
       "    .dataframe thead th {\n",
       "        text-align: right;\n",
       "    }\n",
       "</style>\n",
       "<table border=\"1\" class=\"dataframe\">\n",
       "  <thead>\n",
       "    <tr style=\"text-align: right;\">\n",
       "      <th></th>\n",
       "      <th>IP</th>\n",
       "      <th>date</th>\n",
       "      <th>output</th>\n",
       "    </tr>\n",
       "  </thead>\n",
       "  <tbody>\n",
       "    <tr>\n",
       "      <th>0</th>\n",
       "      <td>192.168.43.37</td>\n",
       "      <td>29/Jun/2020:15:59:09 +0530</td>\n",
       "      <td>GET /hack.html HTTP/1.1</td>\n",
       "    </tr>\n",
       "    <tr>\n",
       "      <th>1</th>\n",
       "      <td>192.168.43.37</td>\n",
       "      <td>29/Jun/2020:15:59:18 +0530</td>\n",
       "      <td>GET /favicon.ico HTTP/1.1</td>\n",
       "    </tr>\n",
       "    <tr>\n",
       "      <th>2</th>\n",
       "      <td>192.168.43.98</td>\n",
       "      <td>29/Jun/2020:16:02:52 +0530</td>\n",
       "      <td>403 3985</td>\n",
       "    </tr>\n",
       "    <tr>\n",
       "      <th>3</th>\n",
       "      <td>192.168.43.98</td>\n",
       "      <td>29/Jun/2020:16:02:52 +0530</td>\n",
       "      <td>403 3985</td>\n",
       "    </tr>\n",
       "    <tr>\n",
       "      <th>4</th>\n",
       "      <td>192.168.43.98</td>\n",
       "      <td>29/Jun/2020:16:02:52 +0530</td>\n",
       "      <td>403 3985</td>\n",
       "    </tr>\n",
       "    <tr>\n",
       "      <th>...</th>\n",
       "      <td>...</td>\n",
       "      <td>...</td>\n",
       "      <td>...</td>\n",
       "    </tr>\n",
       "    <tr>\n",
       "      <th>29444</th>\n",
       "      <td>46.105.14.53</td>\n",
       "      <td>17/May/2015:10:05:03 +0000</td>\n",
       "      <td>200 14872</td>\n",
       "    </tr>\n",
       "    <tr>\n",
       "      <th>29445</th>\n",
       "      <td>110.136.166.128</td>\n",
       "      <td>17/May/2015:10:05:06 +0000</td>\n",
       "      <td>GET /reset.css HTTP/1.1</td>\n",
       "    </tr>\n",
       "    <tr>\n",
       "      <th>29446</th>\n",
       "      <td>110.136.166.128</td>\n",
       "      <td>17/May/2015:10:05:03 +0000</td>\n",
       "      <td>GET /style2.css HTTP/1.1</td>\n",
       "    </tr>\n",
       "    <tr>\n",
       "      <th>29447</th>\n",
       "      <td>110.136.166.128</td>\n",
       "      <td>17/May/2015:10:05:41 +0000</td>\n",
       "      <td>GET /favicon.ico HTTP/1.1</td>\n",
       "    </tr>\n",
       "    <tr>\n",
       "      <th>29448</th>\n",
       "      <td>110.136.166.128</td>\n",
       "      <td>17/May/2015:10:05:32 +0000</td>\n",
       "      <td>200 6146</td>\n",
       "    </tr>\n",
       "  </tbody>\n",
       "</table>\n",
       "<p>29449 rows × 3 columns</p>\n",
       "</div>"
      ],
      "text/plain": [
       "                    IP                        date                     output\n",
       "0        192.168.43.37  29/Jun/2020:15:59:09 +0530    GET /hack.html HTTP/1.1\n",
       "1        192.168.43.37  29/Jun/2020:15:59:18 +0530  GET /favicon.ico HTTP/1.1\n",
       "2        192.168.43.98  29/Jun/2020:16:02:52 +0530                  403 3985 \n",
       "3        192.168.43.98  29/Jun/2020:16:02:52 +0530                  403 3985 \n",
       "4        192.168.43.98  29/Jun/2020:16:02:52 +0530                  403 3985 \n",
       "...                ...                         ...                        ...\n",
       "29444     46.105.14.53  17/May/2015:10:05:03 +0000                 200 14872 \n",
       "29445  110.136.166.128  17/May/2015:10:05:06 +0000    GET /reset.css HTTP/1.1\n",
       "29446  110.136.166.128  17/May/2015:10:05:03 +0000   GET /style2.css HTTP/1.1\n",
       "29447  110.136.166.128  17/May/2015:10:05:41 +0000  GET /favicon.ico HTTP/1.1\n",
       "29448  110.136.166.128  17/May/2015:10:05:32 +0000                  200 6146 \n",
       "\n",
       "[29449 rows x 3 columns]"
      ]
     },
     "execution_count": 52,
     "metadata": {},
     "output_type": "execute_result"
    }
   ],
   "source": [
    "import pandas as pd\n",
    "data = pd.read_csv(\"mylogs.csv\")\n",
    "data"
   ]
  },
  {
   "cell_type": "code",
   "execution_count": 60,
   "metadata": {},
   "outputs": [],
   "source": [
    "count=data.groupby(\"IP\").count()"
   ]
  },
  {
   "cell_type": "code",
   "execution_count": 99,
   "metadata": {},
   "outputs": [
    {
     "data": {
      "text/html": [
       "<div>\n",
       "<style scoped>\n",
       "    .dataframe tbody tr th:only-of-type {\n",
       "        vertical-align: middle;\n",
       "    }\n",
       "\n",
       "    .dataframe tbody tr th {\n",
       "        vertical-align: top;\n",
       "    }\n",
       "\n",
       "    .dataframe thead th {\n",
       "        text-align: right;\n",
       "    }\n",
       "</style>\n",
       "<table border=\"1\" class=\"dataframe\">\n",
       "  <thead>\n",
       "    <tr style=\"text-align: right;\">\n",
       "      <th></th>\n",
       "      <th>date</th>\n",
       "      <th>output</th>\n",
       "    </tr>\n",
       "    <tr>\n",
       "      <th>IP</th>\n",
       "      <th></th>\n",
       "      <th></th>\n",
       "    </tr>\n",
       "  </thead>\n",
       "  <tbody>\n",
       "    <tr>\n",
       "      <th>110.136.166.128</th>\n",
       "      <td>5</td>\n",
       "      <td>5</td>\n",
       "    </tr>\n",
       "    <tr>\n",
       "      <th>192.168.43.37</th>\n",
       "      <td>2</td>\n",
       "      <td>2</td>\n",
       "    </tr>\n",
       "    <tr>\n",
       "      <th>192.168.43.98</th>\n",
       "      <td>29408</td>\n",
       "      <td>29408</td>\n",
       "    </tr>\n",
       "    <tr>\n",
       "      <th>24.236.252.67</th>\n",
       "      <td>1</td>\n",
       "      <td>1</td>\n",
       "    </tr>\n",
       "    <tr>\n",
       "      <th>46.105.14.53</th>\n",
       "      <td>1</td>\n",
       "      <td>1</td>\n",
       "    </tr>\n",
       "    <tr>\n",
       "      <th>50.16.19.13</th>\n",
       "      <td>1</td>\n",
       "      <td>1</td>\n",
       "    </tr>\n",
       "    <tr>\n",
       "      <th>66.249.73.135</th>\n",
       "      <td>1</td>\n",
       "      <td>1</td>\n",
       "    </tr>\n",
       "    <tr>\n",
       "      <th>66.249.73.185</th>\n",
       "      <td>1</td>\n",
       "      <td>1</td>\n",
       "    </tr>\n",
       "    <tr>\n",
       "      <th>83.149.9.216</th>\n",
       "      <td>23</td>\n",
       "      <td>23</td>\n",
       "    </tr>\n",
       "    <tr>\n",
       "      <th>93.114.45.13</th>\n",
       "      <td>6</td>\n",
       "      <td>6</td>\n",
       "    </tr>\n",
       "  </tbody>\n",
       "</table>\n",
       "</div>"
      ],
      "text/plain": [
       "                  date  output\n",
       "IP                            \n",
       "110.136.166.128      5       5\n",
       "192.168.43.37        2       2\n",
       "192.168.43.98    29408   29408\n",
       "24.236.252.67        1       1\n",
       "46.105.14.53         1       1\n",
       "50.16.19.13          1       1\n",
       "66.249.73.135        1       1\n",
       "66.249.73.185        1       1\n",
       "83.149.9.216        23      23\n",
       "93.114.45.13         6       6"
      ]
     },
     "execution_count": 99,
     "metadata": {},
     "output_type": "execute_result"
    }
   ],
   "source": [
    "count"
   ]
  },
  {
   "cell_type": "code",
   "execution_count": 65,
   "metadata": {},
   "outputs": [
    {
     "data": {
      "text/plain": [
       "IP\n",
       "110.136.166.128        5\n",
       "192.168.43.37          2\n",
       "192.168.43.98      29408\n",
       "24.236.252.67          1\n",
       "46.105.14.53           1\n",
       "50.16.19.13            1\n",
       "66.249.73.135          1\n",
       "66.249.73.185          1\n",
       "83.149.9.216          23\n",
       "93.114.45.13           6\n",
       "Name: output, dtype: int64"
      ]
     },
     "execution_count": 65,
     "metadata": {},
     "output_type": "execute_result"
    }
   ],
   "source": [
    "count['output']"
   ]
  },
  {
   "cell_type": "code",
   "execution_count": 105,
   "metadata": {},
   "outputs": [
    {
     "data": {
      "text/plain": [
       "pandas.core.frame.DataFrame"
      ]
     },
     "execution_count": 105,
     "metadata": {},
     "output_type": "execute_result"
    }
   ],
   "source": [
    "type(count)"
   ]
  },
  {
   "cell_type": "code",
   "execution_count": 81,
   "metadata": {},
   "outputs": [],
   "source": [
    "#we have got the total ips which attacked the webserver\n",
    "#Now checking the maximum times the server was under attack by single ip\n",
    "mylist=[]\n",
    "def myanalysis(count):\n",
    "    for x in count['output']:\n",
    "        if x not in mylist and x>250:\n",
    "            mylist.append(x)\n",
    "            return x\n",
    "occur=myanalysis(count)            "
   ]
  },
  {
   "cell_type": "code",
   "execution_count": 82,
   "metadata": {},
   "outputs": [
    {
     "data": {
      "text/plain": [
       "29408"
      ]
     },
     "execution_count": 82,
     "metadata": {},
     "output_type": "execute_result"
    }
   ],
   "source": [
    "#As we can see from the above ip 192.168.43.98 attacked the server max times\n",
    "occur abe jenkins to ye python wale code chala rha hai r"
   ]
  }
 ],
 "metadata": {
  "kernelspec": {
   "display_name": "Python 3",
   "language": "python",
   "name": "python3"
  },
  "language_info": {
   "codemirror_mode": {
    "name": "ipython",
    "version": 3
   },
   "file_extension": ".py",
   "mimetype": "text/x-python",
   "name": "python",
   "nbconvert_exporter": "python",
   "pygments_lexer": "ipython3",
   "version": "3.7.7"
  }
 },
 "nbformat": 4,
 "nbformat_minor": 4
}
